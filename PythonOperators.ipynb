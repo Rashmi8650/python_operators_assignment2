{
 "cells": [
  {
   "cell_type": "markdown",
   "id": "bd60d29c",
   "metadata": {},
   "source": [
    "# Operators in python (assignment_2)"
   ]
  },
  {
   "cell_type": "code",
   "execution_count": 4,
   "id": "a9abc4b9",
   "metadata": {},
   "outputs": [
    {
     "name": "stdout",
     "output_type": "stream",
     "text": [
      "9\n",
      "2\n",
      "sum of a and b is: 11\n",
      "Differenace of a and b is: 7\n",
      "product of a and b is: 18\n",
      "quotient of a and b is: 1\n"
     ]
    }
   ],
   "source": [
    "#Calculate the sum, difference, product, and quotient of two numbers.\n",
    "a=int(input())\n",
    "b=int(input())\n",
    "\n",
    "#sum\n",
    "c=a+b\n",
    "print(\"sum of a and b is:\",c)\n",
    "\n",
    "#Differenace\n",
    "d=a-b\n",
    "print(\"Differenace of a and b is:\",d)\n",
    "\n",
    "#product\n",
    "e=a*b\n",
    "print(\"product of a and b is:\",e)\n",
    "\n",
    "#quotient\n",
    "f=a%b\n",
    "print(\"quotient of a and b is:\",f)"
   ]
  },
  {
   "cell_type": "code",
   "execution_count": 3,
   "id": "59658757",
   "metadata": {},
   "outputs": [
    {
     "name": "stdout",
     "output_type": "stream",
     "text": [
      "33\n",
      "33\n",
      "18\n",
      "270\n",
      "18.0\n",
      "1.0\n",
      "1.0\n"
     ]
    }
   ],
   "source": [
    "# Perform various assignment operations on a variable.\n",
    "a=18\n",
    "b=15\n",
    "x=a+b\n",
    "print(x)\n",
    "a+=b\n",
    "print(a)\n",
    "a-=b\n",
    "print(a)\n",
    "a*=b\n",
    "print(a)\n",
    "a/=b\n",
    "print(a)\n",
    "a//=b\n",
    "print(a)\n",
    "a**=b\n",
    "print(a)"
   ]
  },
  {
   "cell_type": "code",
   "execution_count": 2,
   "id": "5164a316",
   "metadata": {},
   "outputs": [
    {
     "name": "stdout",
     "output_type": "stream",
     "text": [
      "44\n",
      "78\n",
      "num1 is less than num2\n"
     ]
    }
   ],
   "source": [
    "# Compare two numbers and print the results.\n",
    "num1=int(input())\n",
    "num2=int(input())\n",
    "if (num1==num2):\n",
    "    print(\"Both numbers are equal.\")\n",
    "elif(num1>num2):\n",
    "    print(\"num1 is greater than num2\")\n",
    "elif(num1<num2):\n",
    "    print(\"num1 is less than num2\")\n",
    "else:\n",
    "    print(\"Both numbers are not equal\")\n",
    "    "
   ]
  },
  {
   "cell_type": "code",
   "execution_count": 5,
   "id": "9efd4c3f",
   "metadata": {},
   "outputs": [
    {
     "name": "stdout",
     "output_type": "stream",
     "text": [
      "5\n",
      "7\n",
      "Both Numbers are positive\n",
      "False\n"
     ]
    }
   ],
   "source": [
    "#Check conditions using logical operators.\n",
    "\n",
    "#Logical operators:- it always return boolean  value\n",
    "\n",
    "a1=int(input())\n",
    "b1=int(input())\n",
    "if( a1>0 and b1>0): #and condition\n",
    "    print(\"Both Numbers are positive\")\n",
    "else:\n",
    "    if((a1>0 and b1<0)or(a1<0 and  b1>0)): # or condition\n",
    "        print(\"atleast one number is negative.\")\n",
    "    else:\n",
    "        print(\"Both numbers are negative\")\n",
    "\n",
    "#not operator\n",
    "c1=\"rashmi\"\n",
    "d=not(c1)\n",
    "print(d)        "
   ]
  },
  {
   "cell_type": "code",
   "execution_count": 7,
   "id": "8113f062",
   "metadata": {},
   "outputs": [
    {
     "name": "stdout",
     "output_type": "stream",
     "text": [
      "<class 'str'>\n",
      "<class 'int'>\n",
      "<class 'float'>\n"
     ]
    }
   ],
   "source": [
    "# Check the identity of vriables.===> for checking the identity of variable we use built in type() function\n",
    "name=\"rashmi\"\n",
    "print(type(name))\n",
    "num3=77\n",
    "print(type(num3))\n",
    "f1=77.9\n",
    "print(type(f1))\n"
   ]
  },
  {
   "cell_type": "code",
   "execution_count": 3,
   "id": "ee76fb4f",
   "metadata": {},
   "outputs": [
    {
     "name": "stdout",
     "output_type": "stream",
     "text": [
      "5\n",
      "2\n",
      "0\n",
      "7\n",
      "7\n",
      "-6\n",
      "1\n",
      "20\n"
     ]
    }
   ],
   "source": [
    "#Perform bitwise operations on any two integers.\n",
    "p=int(input())\n",
    "q=int(input())\n",
    "ans1=p&q #bitwise and==> &\n",
    "print(ans1)\n",
    "ans2=p|q #bitwise or==> |\n",
    "print(ans2)\n",
    "ans3= p^q #bitwise XOR==> ^\n",
    "print(ans3)\n",
    "ans4= ~p #bitwise not==> ^\n",
    "print(ans4)\n",
    "ans5=p>>2 #right shift==> >>\n",
    "print(ans5)\n",
    "ans6=p<<2 #left shift==> <<\n",
    "print(ans6)\n"
   ]
  },
  {
   "cell_type": "code",
   "execution_count": 8,
   "id": "33173722",
   "metadata": {},
   "outputs": [
    {
     "name": "stdout",
     "output_type": "stream",
     "text": [
      "5\n",
      "-7\n"
     ]
    }
   ],
   "source": [
    "#Use unary operators to change the sign of a number.\n",
    "u1=-(-5)\n",
    "print(u1)\n",
    "u2=-(7)\n",
    "print(u2)"
   ]
  },
  {
   "cell_type": "code",
   "execution_count": 11,
   "id": "d0c24d7f",
   "metadata": {},
   "outputs": [
    {
     "name": "stdout",
     "output_type": "stream",
     "text": [
      "67\n",
      "45\n",
      "t1 is greator then t2\n"
     ]
    }
   ],
   "source": [
    "#Use the ternary operator to assign values based on conditions.\n",
    "t1=int(input())\n",
    "t2=int(input())\n",
    "answer=(print(\"t1 is greator then t2\")) if (t1>t2) else (print(\"t2 is greator then t1\"))"
   ]
  },
  {
   "cell_type": "code",
   "execution_count": null,
   "id": "d0fce813",
   "metadata": {},
   "outputs": [],
   "source": []
  }
 ],
 "metadata": {
  "kernelspec": {
   "display_name": "Python 3 (ipykernel)",
   "language": "python",
   "name": "python3"
  },
  "language_info": {
   "codemirror_mode": {
    "name": "ipython",
    "version": 3
   },
   "file_extension": ".py",
   "mimetype": "text/x-python",
   "name": "python",
   "nbconvert_exporter": "python",
   "pygments_lexer": "ipython3",
   "version": "3.11.5"
  }
 },
 "nbformat": 4,
 "nbformat_minor": 5
}
